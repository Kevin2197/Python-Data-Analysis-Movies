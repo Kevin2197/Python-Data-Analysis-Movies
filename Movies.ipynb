{
 "cells": [
  {
   "cell_type": "markdown",
   "metadata": {},
   "source": [
    "# Project 1: Explanatory Data Analysis & Data Presentation (Movies Dataset)"
   ]
  },
  {
   "cell_type": "markdown",
   "metadata": {},
   "source": [
    "# Project Brief for Self-Coders"
   ]
  },
  {
   "cell_type": "markdown",
   "metadata": {},
   "source": [
    "Here you´ll have the opportunity to code major parts of Project 1 on your own. If you need any help or inspiration, have a look at the Videos or the Jupyter Notebook with the full code. <br> <br>\n",
    "Keep in mind that it´s all about __getting the right results/conclusions__. It´s not about finding the identical code. Things can be coded in many different ways. Even if you come to the same conclusions, it´s very unlikely that we have the very same code. "
   ]
  },
  {
   "cell_type": "markdown",
   "metadata": {},
   "source": [
    "## Data Import and first Inspection"
   ]
  },
  {
   "cell_type": "markdown",
   "metadata": {},
   "source": [
    "1. __Import__ the movies dataset from the CSV file \"movies_complete.csv\". __Inspect__ the data."
   ]
  },
  {
   "cell_type": "code",
   "execution_count": 86,
   "metadata": {},
   "outputs": [
    {
     "name": "stdout",
     "output_type": "stream",
     "text": [
      "<class 'pandas.core.frame.DataFrame'>\n",
      "RangeIndex: 44691 entries, 0 to 44690\n",
      "Data columns (total 22 columns):\n",
      " #   Column                 Non-Null Count  Dtype         \n",
      "---  ------                 --------------  -----         \n",
      " 0   id                     44691 non-null  int64         \n",
      " 1   title                  44691 non-null  object        \n",
      " 2   tagline                20284 non-null  object        \n",
      " 3   release_date           44657 non-null  datetime64[ns]\n",
      " 4   genres                 42586 non-null  object        \n",
      " 5   belongs_to_collection  4463 non-null   object        \n",
      " 6   original_language      44681 non-null  object        \n",
      " 7   budget_musd            8854 non-null   float64       \n",
      " 8   revenue_musd           7385 non-null   float64       \n",
      " 9   production_companies   33356 non-null  object        \n",
      " 10  production_countries   38835 non-null  object        \n",
      " 11  vote_count             44691 non-null  float64       \n",
      " 12  vote_average           42077 non-null  float64       \n",
      " 13  popularity             44691 non-null  float64       \n",
      " 14  runtime                43179 non-null  float64       \n",
      " 15  overview               43740 non-null  object        \n",
      " 16  spoken_languages       41094 non-null  object        \n",
      " 17  poster_path            44467 non-null  object        \n",
      " 18  cast                   42502 non-null  object        \n",
      " 19  cast_size              44691 non-null  int64         \n",
      " 20  crew_size              44691 non-null  int64         \n",
      " 21  director               43960 non-null  object        \n",
      "dtypes: datetime64[ns](1), float64(6), int64(3), object(12)\n",
      "memory usage: 7.5+ MB\n"
     ]
    }
   ],
   "source": [
    "import pandas as pd\n",
    "import matplotlib.pyplot as plt\n",
    "import numpy as np\n",
    "pd.options.display.max_rows = 12\n",
    "pd.options.display.float_format = '{:.2f}'.format\n",
    "\n",
    "df = pd.read_csv(\"movies_complete.csv\", parse_dates= [\"release_date\"])\n",
    "\n",
    "df.info()"
   ]
  },
  {
   "cell_type": "markdown",
   "metadata": {},
   "source": [
    "__Some additional information on Features/Columns__:"
   ]
  },
  {
   "cell_type": "markdown",
   "metadata": {},
   "source": [
    "* **id:** The ID of the movie (clear/unique identifier).\n",
    "* **title:** The Official Title of the movie.\n",
    "* **tagline:** The tagline of the movie.\n",
    "* **release_date:** Theatrical Release Date of the movie.\n",
    "* **genres:** Genres associated with the movie.\n",
    "* **belongs_to_collection:** Gives information on the movie series/franchise the particular film belongs to.\n",
    "* **original_language:** The language in which the movie was originally shot in.\n",
    "* **budget_musd:** The budget of the movie in million dollars.\n",
    "* **revenue_musd:** The total revenue of the movie in million dollars.\n",
    "* **production_companies:** Production companies involved with the making of the movie.\n",
    "* **production_countries:** Countries where the movie was shot/produced in.\n",
    "* **vote_count:** The number of votes by users, as counted by TMDB.\n",
    "* **vote_average:** The average rating of the movie.\n",
    "* **popularity:** The Popularity Score assigned by TMDB.\n",
    "* **runtime:** The runtime of the movie in minutes.\n",
    "* **overview:** A brief blurb of the movie.\n",
    "* **spoken_languages:** Spoken languages in the film.\n",
    "* **poster_path:** The URL of the poster image.\n",
    "* **cast:** (Main) Actors appearing in the movie.\n",
    "* **cast_size:** number of Actors appearing in the movie.\n",
    "* **director:** Director of the movie.\n",
    "* **crew_size:** Size of the film crew (incl. director, excl. actors)."
   ]
  },
  {
   "cell_type": "code",
   "execution_count": 116,
   "metadata": {},
   "outputs": [],
   "source": [
    "#For Poster printout (optional)\n",
    "from IPython.display import HTML\n",
    "pd.options.display.max_colwidth = 200\n",
    "\n",
    "# df organization:\n",
    "df = df.dropna(subset= ['budget_musd', 'revenue_musd', 'vote_average', 'vote_count'])\n",
    "df[\"profit\"] = df.revenue_musd.sub(df.budget_musd) # rev - bug\n",
    "df[\"ROI\"] = df.revenue_musd.div(df.budget_musd) # rev / bug\n",
    "\n",
    "df_select = df[[\"poster_path\", \"title\", \"budget_musd\", \"revenue_musd\",\n",
    "              \"vote_count\", \"vote_average\", \"popularity\", \"profit\", \"ROI\" ]].copy()\n",
    "\n",
    "\n",
    "\n",
    "df_select.columns = [\"Poster\", \"Title\", \"Budget\", \"Revenue\", \"Ratings\", \n",
    "                   \"Average Rating\", \"Popularity\", \"Profit\", \"ROI\"]\n",
    "\n",
    "df_select.set_index(\"Title\", inplace = True)\n",
    "df = df.reset_index(drop=True) #reset index\n",
    "\n",
    "#df_select.loc[df_select.Budget >= 5].sort_values(by = \"ROI\", ascending = False)\n",
    "#df_select.sort_values(by='Average Rating', ascending = False).iloc[:5,:]"
   ]
  },
  {
   "cell_type": "markdown",
   "metadata": {},
   "source": [
    "## The best and the worst movies..."
   ]
  },
  {
   "cell_type": "markdown",
   "metadata": {},
   "source": [
    "2. __Filter__ the Dataset and __find the best/worst n Movies__ with the"
   ]
  },
  {
   "cell_type": "markdown",
   "metadata": {},
   "source": [
    "- Highest Revenue\n",
    "- Highest Budget\n",
    "- Highest Profit (=Revenue - Budget)\n",
    "- Lowest Profit (=Revenue - Budget)\n",
    "- Highest Return on Investment (=Revenue / Budget) (only movies with Budget >= 10) \n",
    "- Lowest Return on Investment (=Revenue / Budget) (only movies with Budget >= 10)\n",
    "- Highest number of Votes\n",
    "- Highest Rating (only movies with 10 or more Ratings)\n",
    "- Lowest Rating (only movies with 10 or more Ratings)\n",
    "- Highest Popularity"
   ]
  },
  {
   "cell_type": "markdown",
   "metadata": {},
   "source": [
    "__Define__ an appropriate __user-defined function__ to reuse code."
   ]
  },
  {
   "cell_type": "code",
   "execution_count": 88,
   "metadata": {},
   "outputs": [],
   "source": [
    "def best_worst(n, by, acending = False, min_buget = 0, min_ratings = 0 ):\n",
    "    # SET: Min-buget && min-rating Paramters...\n",
    "    df2 = df_select.loc[ (df_select.Budget >= min_buget) & (df_select.Ratings >= min_ratings),\n",
    "                        ['Poster', by]].sort_values(by = by, ascending = acending).head(n).copy()\n",
    "    \n",
    "    return HTML(df2.to_html(escape=False))"
   ]
  },
  {
   "cell_type": "markdown",
   "metadata": {},
   "source": [
    "__Movies Top 5 - Highest Revenue__"
   ]
  },
  {
   "cell_type": "code",
   "execution_count": 89,
   "metadata": {},
   "outputs": [
    {
     "data": {
      "text/html": [
       "<table border=\"1\" class=\"dataframe\">\n",
       "  <thead>\n",
       "    <tr style=\"text-align: right;\">\n",
       "      <th></th>\n",
       "      <th>Poster</th>\n",
       "      <th>Revenue</th>\n",
       "    </tr>\n",
       "    <tr>\n",
       "      <th>Title</th>\n",
       "      <th></th>\n",
       "      <th></th>\n",
       "    </tr>\n",
       "  </thead>\n",
       "  <tbody>\n",
       "    <tr>\n",
       "      <th>Avatar</th>\n",
       "      <td><img src='http://image.tmdb.org/t/p/w185//btnl50ZDJDSCal2NLQIYWw0XxvH.jpg' style='height:100px;'></td>\n",
       "      <td>2787.97</td>\n",
       "    </tr>\n",
       "    <tr>\n",
       "      <th>Star Wars: The Force Awakens</th>\n",
       "      <td><img src='http://image.tmdb.org/t/p/w185//9rd002JS49RwDW944fF1wjU8iTV.jpg' style='height:100px;'></td>\n",
       "      <td>2068.22</td>\n",
       "    </tr>\n",
       "    <tr>\n",
       "      <th>Titanic</th>\n",
       "      <td><img src='http://image.tmdb.org/t/p/w185//9xjZS2rlVxm8SFx8kPC3aIGCOYQ.jpg' style='height:100px;'></td>\n",
       "      <td>1845.03</td>\n",
       "    </tr>\n",
       "    <tr>\n",
       "      <th>The Avengers</th>\n",
       "      <td><img src='http://image.tmdb.org/t/p/w185//RYMX2wcKCBAr24UyPD7xwmjaTn.jpg' style='height:100px;'></td>\n",
       "      <td>1519.56</td>\n",
       "    </tr>\n",
       "    <tr>\n",
       "      <th>Jurassic World</th>\n",
       "      <td><img src='http://image.tmdb.org/t/p/w185//rhr4y79GpxQF9IsfJItRXVaoGs4.jpg' style='height:100px;'></td>\n",
       "      <td>1513.53</td>\n",
       "    </tr>\n",
       "  </tbody>\n",
       "</table>"
      ],
      "text/plain": [
       "<IPython.core.display.HTML object>"
      ]
     },
     "execution_count": 89,
     "metadata": {},
     "output_type": "execute_result"
    }
   ],
   "source": [
    "best_worst(5, 'Revenue', min_buget = 5)"
   ]
  },
  {
   "cell_type": "markdown",
   "metadata": {},
   "source": [
    "__Movies Top 5 - Highest Budget__"
   ]
  },
  {
   "cell_type": "code",
   "execution_count": 90,
   "metadata": {},
   "outputs": [
    {
     "data": {
      "text/html": [
       "<table border=\"1\" class=\"dataframe\">\n",
       "  <thead>\n",
       "    <tr style=\"text-align: right;\">\n",
       "      <th></th>\n",
       "      <th>Poster</th>\n",
       "      <th>Budget</th>\n",
       "    </tr>\n",
       "    <tr>\n",
       "      <th>Title</th>\n",
       "      <th></th>\n",
       "      <th></th>\n",
       "    </tr>\n",
       "  </thead>\n",
       "  <tbody>\n",
       "    <tr>\n",
       "      <th>Pirates of the Caribbean: On Stranger Tides</th>\n",
       "      <td><img src='http://image.tmdb.org/t/p/w185//keGfSvCmYj7CvdRx36OdVrAEibE.jpg' style='height:100px;'></td>\n",
       "      <td>380.00</td>\n",
       "    </tr>\n",
       "    <tr>\n",
       "      <th>Pirates of the Caribbean: At World's End</th>\n",
       "      <td><img src='http://image.tmdb.org/t/p/w185//oVh3REsCwJwmrTkZ9OkkeKiAE02.jpg' style='height:100px;'></td>\n",
       "      <td>300.00</td>\n",
       "    </tr>\n",
       "    <tr>\n",
       "      <th>Avengers: Age of Ultron</th>\n",
       "      <td><img src='http://image.tmdb.org/t/p/w185//4ssDuvEDkSArWEdyBl2X5EHvYKU.jpg' style='height:100px;'></td>\n",
       "      <td>280.00</td>\n",
       "    </tr>\n",
       "    <tr>\n",
       "      <th>Superman Returns</th>\n",
       "      <td><img src='http://image.tmdb.org/t/p/w185//6ZYOpyhFZrAQIe1BuhqVgzfAdGZ.jpg' style='height:100px;'></td>\n",
       "      <td>270.00</td>\n",
       "    </tr>\n",
       "    <tr>\n",
       "      <th>John Carter</th>\n",
       "      <td><img src='http://image.tmdb.org/t/p/w185//7GSSyUUgUEXm1rhmiPGSRuKoqnK.jpg' style='height:100px;'></td>\n",
       "      <td>260.00</td>\n",
       "    </tr>\n",
       "  </tbody>\n",
       "</table>"
      ],
      "text/plain": [
       "<IPython.core.display.HTML object>"
      ]
     },
     "execution_count": 90,
     "metadata": {},
     "output_type": "execute_result"
    }
   ],
   "source": [
    "best_worst(5, 'Budget')"
   ]
  },
  {
   "cell_type": "markdown",
   "metadata": {},
   "source": [
    "__Movies Top 5 - Highest Profit__"
   ]
  },
  {
   "cell_type": "code",
   "execution_count": 91,
   "metadata": {},
   "outputs": [
    {
     "data": {
      "text/html": [
       "<table border=\"1\" class=\"dataframe\">\n",
       "  <thead>\n",
       "    <tr style=\"text-align: right;\">\n",
       "      <th></th>\n",
       "      <th>Poster</th>\n",
       "      <th>Profit</th>\n",
       "    </tr>\n",
       "    <tr>\n",
       "      <th>Title</th>\n",
       "      <th></th>\n",
       "      <th></th>\n",
       "    </tr>\n",
       "  </thead>\n",
       "  <tbody>\n",
       "    <tr>\n",
       "      <th>Avatar</th>\n",
       "      <td><img src='http://image.tmdb.org/t/p/w185//btnl50ZDJDSCal2NLQIYWw0XxvH.jpg' style='height:100px;'></td>\n",
       "      <td>2550.97</td>\n",
       "    </tr>\n",
       "    <tr>\n",
       "      <th>Star Wars: The Force Awakens</th>\n",
       "      <td><img src='http://image.tmdb.org/t/p/w185//9rd002JS49RwDW944fF1wjU8iTV.jpg' style='height:100px;'></td>\n",
       "      <td>1823.22</td>\n",
       "    </tr>\n",
       "    <tr>\n",
       "      <th>Titanic</th>\n",
       "      <td><img src='http://image.tmdb.org/t/p/w185//9xjZS2rlVxm8SFx8kPC3aIGCOYQ.jpg' style='height:100px;'></td>\n",
       "      <td>1645.03</td>\n",
       "    </tr>\n",
       "    <tr>\n",
       "      <th>Jurassic World</th>\n",
       "      <td><img src='http://image.tmdb.org/t/p/w185//rhr4y79GpxQF9IsfJItRXVaoGs4.jpg' style='height:100px;'></td>\n",
       "      <td>1363.53</td>\n",
       "    </tr>\n",
       "    <tr>\n",
       "      <th>Furious 7</th>\n",
       "      <td><img src='http://image.tmdb.org/t/p/w185//d9jZ2bKZw3ptTuxAyVHA6olPAVs.jpg' style='height:100px;'></td>\n",
       "      <td>1316.25</td>\n",
       "    </tr>\n",
       "  </tbody>\n",
       "</table>"
      ],
      "text/plain": [
       "<IPython.core.display.HTML object>"
      ]
     },
     "execution_count": 91,
     "metadata": {},
     "output_type": "execute_result"
    }
   ],
   "source": [
    "best_worst(5, 'Profit', min_buget= 5)"
   ]
  },
  {
   "cell_type": "markdown",
   "metadata": {},
   "source": [
    "__Movies Top 5 - Lowest Profit__"
   ]
  },
  {
   "cell_type": "code",
   "execution_count": 92,
   "metadata": {
    "scrolled": false
   },
   "outputs": [
    {
     "data": {
      "text/html": [
       "<table border=\"1\" class=\"dataframe\">\n",
       "  <thead>\n",
       "    <tr style=\"text-align: right;\">\n",
       "      <th></th>\n",
       "      <th>Poster</th>\n",
       "      <th>Profit</th>\n",
       "    </tr>\n",
       "    <tr>\n",
       "      <th>Title</th>\n",
       "      <th></th>\n",
       "      <th></th>\n",
       "    </tr>\n",
       "  </thead>\n",
       "  <tbody>\n",
       "    <tr>\n",
       "      <th>The Lone Ranger</th>\n",
       "      <td><img src='http://image.tmdb.org/t/p/w185//b2je2ZybNIzAOL1K1WPbbT6zt2M.jpg' style='height:100px;'></td>\n",
       "      <td>-165.71</td>\n",
       "    </tr>\n",
       "    <tr>\n",
       "      <th>The Alamo</th>\n",
       "      <td><img src='http://image.tmdb.org/t/p/w185//aZrWYkxCCwSPKp4VjVvn46uHbIX.jpg' style='height:100px;'></td>\n",
       "      <td>-119.18</td>\n",
       "    </tr>\n",
       "    <tr>\n",
       "      <th>Mars Needs Moms</th>\n",
       "      <td><img src='http://image.tmdb.org/t/p/w185//lOKqLd0ud1wdwaPK5h6bGNZIVLT.jpg' style='height:100px;'></td>\n",
       "      <td>-111.01</td>\n",
       "    </tr>\n",
       "    <tr>\n",
       "      <th>Valerian and the City of a Thousand Planets</th>\n",
       "      <td><img src='http://image.tmdb.org/t/p/w185//jfIpMh79fGRqYJ6PwZLCntzgxlF.jpg' style='height:100px;'></td>\n",
       "      <td>-107.45</td>\n",
       "    </tr>\n",
       "    <tr>\n",
       "      <th>The 13th Warrior</th>\n",
       "      <td><img src='http://image.tmdb.org/t/p/w185//7pyhR5K1iv67daYw0DfsmsersKA.jpg' style='height:100px;'></td>\n",
       "      <td>-98.30</td>\n",
       "    </tr>\n",
       "  </tbody>\n",
       "</table>"
      ],
      "text/plain": [
       "<IPython.core.display.HTML object>"
      ]
     },
     "execution_count": 92,
     "metadata": {},
     "output_type": "execute_result"
    }
   ],
   "source": [
    "best_worst(5, 'Profit', True, 50)"
   ]
  },
  {
   "cell_type": "markdown",
   "metadata": {},
   "source": [
    "__Movies Top 5 - Highest ROI__"
   ]
  },
  {
   "cell_type": "code",
   "execution_count": 93,
   "metadata": {
    "scrolled": false
   },
   "outputs": [
    {
     "data": {
      "text/html": [
       "<table border=\"1\" class=\"dataframe\">\n",
       "  <thead>\n",
       "    <tr style=\"text-align: right;\">\n",
       "      <th></th>\n",
       "      <th>Poster</th>\n",
       "      <th>ROI</th>\n",
       "    </tr>\n",
       "    <tr>\n",
       "      <th>Title</th>\n",
       "      <th></th>\n",
       "      <th></th>\n",
       "    </tr>\n",
       "  </thead>\n",
       "  <tbody>\n",
       "    <tr>\n",
       "      <th>E.T. the Extra-Terrestrial</th>\n",
       "      <td><img src='http://image.tmdb.org/t/p/w185//cBfkE3HSH1NOyy1ftxlPw2l3ukb.jpg' style='height:100px;'></td>\n",
       "      <td>75.52</td>\n",
       "    </tr>\n",
       "    <tr>\n",
       "      <th>My Big Fat Greek Wedding</th>\n",
       "      <td><img src='http://image.tmdb.org/t/p/w185//3TB2GJqWS9Ro4JdfV6FP87v3etE.jpg' style='height:100px;'></td>\n",
       "      <td>73.75</td>\n",
       "    </tr>\n",
       "    <tr>\n",
       "      <th>Star Wars</th>\n",
       "      <td><img src='http://image.tmdb.org/t/p/w185//6FfCtAuVAW8XJjZ7eWeLibRLWTw.jpg' style='height:100px;'></td>\n",
       "      <td>70.49</td>\n",
       "    </tr>\n",
       "    <tr>\n",
       "      <th>Jaws</th>\n",
       "      <td><img src='http://image.tmdb.org/t/p/w185//s2xcqSFfT6F7ZXHxowjxfG0yisT.jpg' style='height:100px;'></td>\n",
       "      <td>67.24</td>\n",
       "    </tr>\n",
       "    <tr>\n",
       "      <th>Crocodile Dundee</th>\n",
       "      <td><img src='http://image.tmdb.org/t/p/w185//kiwOZXU7ddSrWE3ryOQM8sIg1sZ.jpg' style='height:100px;'></td>\n",
       "      <td>65.64</td>\n",
       "    </tr>\n",
       "  </tbody>\n",
       "</table>"
      ],
      "text/plain": [
       "<IPython.core.display.HTML object>"
      ]
     },
     "execution_count": 93,
     "metadata": {},
     "output_type": "execute_result"
    }
   ],
   "source": [
    "best_worst(5, 'ROI', min_buget= 5)"
   ]
  },
  {
   "cell_type": "markdown",
   "metadata": {},
   "source": [
    "__Movies Top 5 - Lowest ROI__"
   ]
  },
  {
   "cell_type": "code",
   "execution_count": 94,
   "metadata": {},
   "outputs": [
    {
     "data": {
      "text/html": [
       "<table border=\"1\" class=\"dataframe\">\n",
       "  <thead>\n",
       "    <tr style=\"text-align: right;\">\n",
       "      <th></th>\n",
       "      <th>Poster</th>\n",
       "      <th>ROI</th>\n",
       "    </tr>\n",
       "    <tr>\n",
       "      <th>Title</th>\n",
       "      <th></th>\n",
       "      <th></th>\n",
       "    </tr>\n",
       "  </thead>\n",
       "  <tbody>\n",
       "    <tr>\n",
       "      <th>Chasing Liberty</th>\n",
       "      <td><img src='http://image.tmdb.org/t/p/w185//7qzvS9QKkiDcz1K8EY9Y6ZXkUeD.jpg' style='height:100px;'></td>\n",
       "      <td>0.00</td>\n",
       "    </tr>\n",
       "    <tr>\n",
       "      <th>The Cookout</th>\n",
       "      <td><img src='http://image.tmdb.org/t/p/w185//eUVEPES8KhnXbTG3G74UZfVQRb7.jpg' style='height:100px;'></td>\n",
       "      <td>0.00</td>\n",
       "    </tr>\n",
       "    <tr>\n",
       "      <th>Never Talk to Strangers</th>\n",
       "      <td><img src='http://image.tmdb.org/t/p/w185//IHZZLIxqF3ByEZV57RApvfh7uu.jpg' style='height:100px;'></td>\n",
       "      <td>0.00</td>\n",
       "    </tr>\n",
       "    <tr>\n",
       "      <th>Deadfall</th>\n",
       "      <td><img src='http://image.tmdb.org/t/p/w185//kgfvIzCG9PYjYfEtcIPuJpGiY9m.jpg' style='height:100px;'></td>\n",
       "      <td>0.00</td>\n",
       "    </tr>\n",
       "    <tr>\n",
       "      <th>In the Cut</th>\n",
       "      <td><img src='http://image.tmdb.org/t/p/w185//lcorM51zECU9prrVCvhvpxfkPhb.jpg' style='height:100px;'></td>\n",
       "      <td>0.00</td>\n",
       "    </tr>\n",
       "  </tbody>\n",
       "</table>"
      ],
      "text/plain": [
       "<IPython.core.display.HTML object>"
      ]
     },
     "execution_count": 94,
     "metadata": {},
     "output_type": "execute_result"
    }
   ],
   "source": [
    "best_worst(5, 'ROI', acending=True, min_buget=5)"
   ]
  },
  {
   "cell_type": "markdown",
   "metadata": {},
   "source": [
    "__Movies Top 5 - Most Votes__"
   ]
  },
  {
   "cell_type": "code",
   "execution_count": 95,
   "metadata": {},
   "outputs": [
    {
     "data": {
      "text/html": [
       "<table border=\"1\" class=\"dataframe\">\n",
       "  <thead>\n",
       "    <tr style=\"text-align: right;\">\n",
       "      <th></th>\n",
       "      <th>Poster</th>\n",
       "      <th>Ratings</th>\n",
       "    </tr>\n",
       "    <tr>\n",
       "      <th>Title</th>\n",
       "      <th></th>\n",
       "      <th></th>\n",
       "    </tr>\n",
       "  </thead>\n",
       "  <tbody>\n",
       "    <tr>\n",
       "      <th>Inception</th>\n",
       "      <td><img src='http://image.tmdb.org/t/p/w185//9gk7adHYeDvHkCSEqAvQNLV5Uge.jpg' style='height:100px;'></td>\n",
       "      <td>14075.00</td>\n",
       "    </tr>\n",
       "    <tr>\n",
       "      <th>The Dark Knight</th>\n",
       "      <td><img src='http://image.tmdb.org/t/p/w185//qJ2tW6WMUDux911r6m7haRef0WH.jpg' style='height:100px;'></td>\n",
       "      <td>12269.00</td>\n",
       "    </tr>\n",
       "    <tr>\n",
       "      <th>Avatar</th>\n",
       "      <td><img src='http://image.tmdb.org/t/p/w185//btnl50ZDJDSCal2NLQIYWw0XxvH.jpg' style='height:100px;'></td>\n",
       "      <td>12114.00</td>\n",
       "    </tr>\n",
       "    <tr>\n",
       "      <th>The Avengers</th>\n",
       "      <td><img src='http://image.tmdb.org/t/p/w185//RYMX2wcKCBAr24UyPD7xwmjaTn.jpg' style='height:100px;'></td>\n",
       "      <td>12000.00</td>\n",
       "    </tr>\n",
       "    <tr>\n",
       "      <th>Deadpool</th>\n",
       "      <td><img src='http://image.tmdb.org/t/p/w185//fSRb7vyIP8rQpL0I47P3qUsEKX3.jpg' style='height:100px;'></td>\n",
       "      <td>11444.00</td>\n",
       "    </tr>\n",
       "  </tbody>\n",
       "</table>"
      ],
      "text/plain": [
       "<IPython.core.display.HTML object>"
      ]
     },
     "execution_count": 95,
     "metadata": {},
     "output_type": "execute_result"
    }
   ],
   "source": [
    "best_worst(5, 'Ratings')"
   ]
  },
  {
   "cell_type": "markdown",
   "metadata": {},
   "source": [
    "__Movies Top 5 - Highest Rating__"
   ]
  },
  {
   "cell_type": "code",
   "execution_count": 96,
   "metadata": {},
   "outputs": [
    {
     "data": {
      "text/html": [
       "<table border=\"1\" class=\"dataframe\">\n",
       "  <thead>\n",
       "    <tr style=\"text-align: right;\">\n",
       "      <th></th>\n",
       "      <th>Poster</th>\n",
       "      <th>Average Rating</th>\n",
       "    </tr>\n",
       "    <tr>\n",
       "      <th>Title</th>\n",
       "      <th></th>\n",
       "      <th></th>\n",
       "    </tr>\n",
       "  </thead>\n",
       "  <tbody>\n",
       "    <tr>\n",
       "      <th>Dilwale Dulhania Le Jayenge</th>\n",
       "      <td><img src='http://image.tmdb.org/t/p/w185//2CAL2433ZeIihfX1Hb2139CX0pW.jpg' style='height:100px;'></td>\n",
       "      <td>9.10</td>\n",
       "    </tr>\n",
       "    <tr>\n",
       "      <th>The Godfather</th>\n",
       "      <td><img src='http://image.tmdb.org/t/p/w185//iVZ3JAcAjmguGPnRNfWFOtLHOuY.jpg' style='height:100px;'></td>\n",
       "      <td>8.50</td>\n",
       "    </tr>\n",
       "    <tr>\n",
       "      <th>The Shawshank Redemption</th>\n",
       "      <td><img src='http://image.tmdb.org/t/p/w185//5KCVkau1HEl7ZzfPsKAPM0sMiKc.jpg' style='height:100px;'></td>\n",
       "      <td>8.50</td>\n",
       "    </tr>\n",
       "    <tr>\n",
       "      <th>The Godfather: Part II</th>\n",
       "      <td><img src='http://image.tmdb.org/t/p/w185//amvmeQWheahG3StKwIE1f7jRnkZ.jpg' style='height:100px;'></td>\n",
       "      <td>8.30</td>\n",
       "    </tr>\n",
       "    <tr>\n",
       "      <th>Life Is Beautiful</th>\n",
       "      <td><img src='http://image.tmdb.org/t/p/w185//mfnkSeeVOBVheuyn2lo4tfmOPQb.jpg' style='height:100px;'></td>\n",
       "      <td>8.30</td>\n",
       "    </tr>\n",
       "  </tbody>\n",
       "</table>"
      ],
      "text/plain": [
       "<IPython.core.display.HTML object>"
      ]
     },
     "execution_count": 96,
     "metadata": {},
     "output_type": "execute_result"
    }
   ],
   "source": [
    "best_worst(5, 'Average Rating', min_ratings= 100)"
   ]
  },
  {
   "cell_type": "markdown",
   "metadata": {},
   "source": [
    "__Movies Top 5 - Lowest Rating__"
   ]
  },
  {
   "cell_type": "code",
   "execution_count": 97,
   "metadata": {},
   "outputs": [
    {
     "data": {
      "text/html": [
       "<table border=\"1\" class=\"dataframe\">\n",
       "  <thead>\n",
       "    <tr style=\"text-align: right;\">\n",
       "      <th></th>\n",
       "      <th>Poster</th>\n",
       "      <th>Average Rating</th>\n",
       "    </tr>\n",
       "    <tr>\n",
       "      <th>Title</th>\n",
       "      <th></th>\n",
       "      <th></th>\n",
       "    </tr>\n",
       "  </thead>\n",
       "  <tbody>\n",
       "    <tr>\n",
       "      <th>Foodfight!</th>\n",
       "      <td><img src='http://image.tmdb.org/t/p/w185//R1zn75Yz4wpdd85byqhP7mT6No.jpg' style='height:100px;'></td>\n",
       "      <td>2.30</td>\n",
       "    </tr>\n",
       "    <tr>\n",
       "      <th>House of the Dead</th>\n",
       "      <td><img src='http://image.tmdb.org/t/p/w185//5jBIUM0tqq8QwNbY8w1RZdU6uWz.jpg' style='height:100px;'></td>\n",
       "      <td>2.80</td>\n",
       "    </tr>\n",
       "    <tr>\n",
       "      <th>From Justin to Kelly</th>\n",
       "      <td><img src='http://image.tmdb.org/t/p/w185//604elfuqIJXN0prV7h25TvbzvbB.jpg' style='height:100px;'></td>\n",
       "      <td>3.00</td>\n",
       "    </tr>\n",
       "    <tr>\n",
       "      <th>Battlefield Earth</th>\n",
       "      <td><img src='http://image.tmdb.org/t/p/w185//wXCRuBHdJ5aTFQdsuGJFXNdo79T.jpg' style='height:100px;'></td>\n",
       "      <td>3.00</td>\n",
       "    </tr>\n",
       "    <tr>\n",
       "      <th>Alone in the Dark</th>\n",
       "      <td><img src='http://image.tmdb.org/t/p/w185//tQZbMfQmsUvfoR2nZyqXLOAKzmk.jpg' style='height:100px;'></td>\n",
       "      <td>3.10</td>\n",
       "    </tr>\n",
       "  </tbody>\n",
       "</table>"
      ],
      "text/plain": [
       "<IPython.core.display.HTML object>"
      ]
     },
     "execution_count": 97,
     "metadata": {},
     "output_type": "execute_result"
    }
   ],
   "source": [
    "best_worst(5, 'Average Rating', True, 5, 20)"
   ]
  },
  {
   "cell_type": "markdown",
   "metadata": {},
   "source": [
    "__Movies Top 5 - Most Popular__"
   ]
  },
  {
   "cell_type": "code",
   "execution_count": 98,
   "metadata": {},
   "outputs": [
    {
     "data": {
      "text/html": [
       "<table border=\"1\" class=\"dataframe\">\n",
       "  <thead>\n",
       "    <tr style=\"text-align: right;\">\n",
       "      <th></th>\n",
       "      <th>Poster</th>\n",
       "      <th>Popularity</th>\n",
       "    </tr>\n",
       "    <tr>\n",
       "      <th>Title</th>\n",
       "      <th></th>\n",
       "      <th></th>\n",
       "    </tr>\n",
       "  </thead>\n",
       "  <tbody>\n",
       "    <tr>\n",
       "      <th>Minions</th>\n",
       "      <td><img src='http://image.tmdb.org/t/p/w185//tMaGZ2HR8HAFwkx4YRib0CDVfNT.jpg' style='height:100px;'></td>\n",
       "      <td>547.49</td>\n",
       "    </tr>\n",
       "    <tr>\n",
       "      <th>Wonder Woman</th>\n",
       "      <td><img src='http://image.tmdb.org/t/p/w185//gfJGlDaHuWimErCr5Ql0I8x9QSy.jpg' style='height:100px;'></td>\n",
       "      <td>294.34</td>\n",
       "    </tr>\n",
       "    <tr>\n",
       "      <th>Beauty and the Beast</th>\n",
       "      <td><img src='http://image.tmdb.org/t/p/w185//tWqifoYuwLETmmasnGHO7xBjEtt.jpg' style='height:100px;'></td>\n",
       "      <td>287.25</td>\n",
       "    </tr>\n",
       "    <tr>\n",
       "      <th>Baby Driver</th>\n",
       "      <td><img src='http://image.tmdb.org/t/p/w185//rmnQ9jKW72bHu8uKlMjPIb2VLMI.jpg' style='height:100px;'></td>\n",
       "      <td>228.03</td>\n",
       "    </tr>\n",
       "    <tr>\n",
       "      <th>Big Hero 6</th>\n",
       "      <td><img src='http://image.tmdb.org/t/p/w185//xozrGME58olN1xBhtxmjpOoY0jH.jpg' style='height:100px;'></td>\n",
       "      <td>213.85</td>\n",
       "    </tr>\n",
       "  </tbody>\n",
       "</table>"
      ],
      "text/plain": [
       "<IPython.core.display.HTML object>"
      ]
     },
     "execution_count": 98,
     "metadata": {},
     "output_type": "execute_result"
    }
   ],
   "source": [
    "best_worst(5, 'Popularity')"
   ]
  },
  {
   "cell_type": "markdown",
   "metadata": {},
   "source": [
    "## Find your next Movie"
   ]
  },
  {
   "cell_type": "markdown",
   "metadata": {},
   "source": [
    "3. __Filter__ the Dataset for movies that meet the following conditions:"
   ]
  },
  {
   "cell_type": "markdown",
   "metadata": {},
   "source": [
    "__Search 1: Science Fiction Action Movie with Bruce Willis (sorted from high to low Rating)__"
   ]
  },
  {
   "cell_type": "code",
   "execution_count": 99,
   "metadata": {},
   "outputs": [
    {
     "data": {
      "text/html": [
       "<table border=\"1\" class=\"dataframe\">\n",
       "  <thead>\n",
       "    <tr style=\"text-align: right;\">\n",
       "      <th></th>\n",
       "      <th>poster_path</th>\n",
       "      <th>vote_average</th>\n",
       "    </tr>\n",
       "    <tr>\n",
       "      <th>title</th>\n",
       "      <th></th>\n",
       "      <th></th>\n",
       "    </tr>\n",
       "  </thead>\n",
       "  <tbody>\n",
       "    <tr>\n",
       "      <th>The Fifth Element</th>\n",
       "      <td><img src='http://image.tmdb.org/t/p/w185//fPtlCO1yQtnoLHOwKtWz7db6RGU.jpg' style='height:100px;'></td>\n",
       "      <td>7.30</td>\n",
       "    </tr>\n",
       "    <tr>\n",
       "      <th>Looper</th>\n",
       "      <td><img src='http://image.tmdb.org/t/p/w185//sNjL6SqErDBE8OUZlrDLkexfsCj.jpg' style='height:100px;'></td>\n",
       "      <td>6.60</td>\n",
       "    </tr>\n",
       "    <tr>\n",
       "      <th>Armageddon</th>\n",
       "      <td><img src='http://image.tmdb.org/t/p/w185//fMtOCd0EAdAzKtGLQiHjSUvbdNc.jpg' style='height:100px;'></td>\n",
       "      <td>6.50</td>\n",
       "    </tr>\n",
       "    <tr>\n",
       "      <th>Surrogates</th>\n",
       "      <td><img src='http://image.tmdb.org/t/p/w185//v3Z0Hbl0oe57njrrIPh0fJPFoo.jpg' style='height:100px;'></td>\n",
       "      <td>5.90</td>\n",
       "    </tr>\n",
       "    <tr>\n",
       "      <th>G.I. Joe: Retaliation</th>\n",
       "      <td><img src='http://image.tmdb.org/t/p/w185//3rWIZMzTKcCtV0eHJ70Z4Ru659f.jpg' style='height:100px;'></td>\n",
       "      <td>5.40</td>\n",
       "    </tr>\n",
       "  </tbody>\n",
       "</table>"
      ],
      "text/plain": [
       "<IPython.core.display.HTML object>"
      ]
     },
     "execution_count": 99,
     "metadata": {},
     "output_type": "execute_result"
    }
   ],
   "source": [
    "filter_genre = df.genres.str.contains(\"Action\") & df.genres.str.contains('Science Fiction')\n",
    "filter_actor = df.cast.str.contains(\"Bruce Willis\")\n",
    "\n",
    "list_bruce = df.loc[filter_genre & filter_actor,\n",
    "                    [\"title\", \"poster_path\", \"vote_average\"]].sort_values(by = \"vote_average\", \n",
    "                                                                        ascending = False).set_index('title')\n",
    "\n",
    "HTML(list_bruce.head(5).to_html(escape=False))\n"
   ]
  },
  {
   "cell_type": "markdown",
   "metadata": {},
   "source": [
    "__Search 2: Movies with Uma Thurman and directed by Quentin Tarantino (sorted from short to long runtime)__"
   ]
  },
  {
   "cell_type": "code",
   "execution_count": 100,
   "metadata": {},
   "outputs": [
    {
     "data": {
      "text/html": [
       "<table border=\"1\" class=\"dataframe\">\n",
       "  <thead>\n",
       "    <tr style=\"text-align: right;\">\n",
       "      <th></th>\n",
       "      <th>poster_path</th>\n",
       "      <th>vote_average</th>\n",
       "      <th>runtime</th>\n",
       "    </tr>\n",
       "    <tr>\n",
       "      <th>title</th>\n",
       "      <th></th>\n",
       "      <th></th>\n",
       "      <th></th>\n",
       "    </tr>\n",
       "  </thead>\n",
       "  <tbody>\n",
       "    <tr>\n",
       "      <th>Kill Bill: Vol. 1</th>\n",
       "      <td><img src='http://image.tmdb.org/t/p/w185//v7TaX8kXMXs5yFFGR41guUDNcnB.jpg' style='height:100px;'></td>\n",
       "      <td>7.70</td>\n",
       "      <td>111.00</td>\n",
       "    </tr>\n",
       "    <tr>\n",
       "      <th>Kill Bill: Vol. 2</th>\n",
       "      <td><img src='http://image.tmdb.org/t/p/w185//2yhg0mZQMhDyvUQ4rG1IZ4oIA8L.jpg' style='height:100px;'></td>\n",
       "      <td>7.70</td>\n",
       "      <td>136.00</td>\n",
       "    </tr>\n",
       "    <tr>\n",
       "      <th>Pulp Fiction</th>\n",
       "      <td><img src='http://image.tmdb.org/t/p/w185//d5iIlFn5s0ImszYzBPb8JPIfbXD.jpg' style='height:100px;'></td>\n",
       "      <td>8.30</td>\n",
       "      <td>154.00</td>\n",
       "    </tr>\n",
       "  </tbody>\n",
       "</table>"
      ],
      "text/plain": [
       "<IPython.core.display.HTML object>"
      ]
     },
     "execution_count": 100,
     "metadata": {},
     "output_type": "execute_result"
    }
   ],
   "source": [
    "filter_actor = df.cast.str.contains('Uma Thurman')\n",
    "filter_director = df.director.str.contains('Quentin Tarantino')\n",
    "\n",
    "list_uma = df.loc[filter_actor & filter_director, \n",
    "                  ['title', 'poster_path', 'vote_average', 'runtime']].sort_values(by = 'runtime').set_index('title')\n",
    "\n",
    "HTML(list_uma.to_html(escape=False))"
   ]
  },
  {
   "cell_type": "markdown",
   "metadata": {},
   "source": [
    "__Search 3: Most Successful Pixar Studio Movies between 2010 and 2015 (sorted from high to low Revenue)__"
   ]
  },
  {
   "cell_type": "code",
   "execution_count": 105,
   "metadata": {},
   "outputs": [
    {
     "data": {
      "text/html": [
       "<table border=\"1\" class=\"dataframe\">\n",
       "  <thead>\n",
       "    <tr style=\"text-align: right;\">\n",
       "      <th></th>\n",
       "      <th>poster_path</th>\n",
       "      <th>release_date</th>\n",
       "      <th>revenue_musd</th>\n",
       "    </tr>\n",
       "    <tr>\n",
       "      <th>title</th>\n",
       "      <th></th>\n",
       "      <th></th>\n",
       "      <th></th>\n",
       "    </tr>\n",
       "  </thead>\n",
       "  <tbody>\n",
       "    <tr>\n",
       "      <th>Toy Story 3</th>\n",
       "      <td><img src='http://image.tmdb.org/t/p/w185//amY0NH1ksd9xJ9boXAMmods6U0D.jpg' style='height:100px;'></td>\n",
       "      <td>2010-06-16</td>\n",
       "      <td>1066.97</td>\n",
       "    </tr>\n",
       "    <tr>\n",
       "      <th>Inside Out</th>\n",
       "      <td><img src='http://image.tmdb.org/t/p/w185//lRHE0vzf3oYJrhbsHXjIkF4Tl5A.jpg' style='height:100px;'></td>\n",
       "      <td>2015-06-09</td>\n",
       "      <td>857.61</td>\n",
       "    </tr>\n",
       "    <tr>\n",
       "      <th>Monsters University</th>\n",
       "      <td><img src='http://image.tmdb.org/t/p/w185//tyHHjZEzJutWggujN1KP0a1jfLX.jpg' style='height:100px;'></td>\n",
       "      <td>2013-06-20</td>\n",
       "      <td>743.56</td>\n",
       "    </tr>\n",
       "    <tr>\n",
       "      <th>Cars 2</th>\n",
       "      <td><img src='http://image.tmdb.org/t/p/w185//okIz1HyxeVOMzYwwHUjH2pHi74I.jpg' style='height:100px;'></td>\n",
       "      <td>2011-06-11</td>\n",
       "      <td>559.85</td>\n",
       "    </tr>\n",
       "  </tbody>\n",
       "</table>"
      ],
      "text/plain": [
       "<IPython.core.display.HTML object>"
      ]
     },
     "execution_count": 105,
     "metadata": {},
     "output_type": "execute_result"
    }
   ],
   "source": [
    "filter_studio = df.production_companies.str.contains('Pixar').fillna(False)\n",
    "filter_release = df.release_date.between('2010-01-01', '2015-12-31')\n",
    "pixar = df.loc[filter_studio & filter_release,\n",
    "               ['title', 'poster_path', 'release_date', 'revenue_musd']].sort_values(by = 'revenue_musd', \n",
    "                                                                                     ascending=False).set_index('title')\n",
    "               \n",
    "HTML(pixar.head(4).to_html(escape=False))"
   ]
  },
  {
   "cell_type": "markdown",
   "metadata": {},
   "source": [
    "__Search 4: Action or Thriller Movie with original language English and minimum Rating of 7.5 (most recent movies first)__"
   ]
  },
  {
   "cell_type": "code",
   "execution_count": 111,
   "metadata": {},
   "outputs": [
    {
     "data": {
      "text/html": [
       "<table border=\"1\" class=\"dataframe\">\n",
       "  <thead>\n",
       "    <tr style=\"text-align: right;\">\n",
       "      <th></th>\n",
       "      <th>poster_path</th>\n",
       "      <th>genres</th>\n",
       "      <th>vote_average</th>\n",
       "      <th>vote_count</th>\n",
       "      <th>release_date</th>\n",
       "    </tr>\n",
       "    <tr>\n",
       "      <th>title</th>\n",
       "      <th></th>\n",
       "      <th></th>\n",
       "      <th></th>\n",
       "      <th></th>\n",
       "      <th></th>\n",
       "    </tr>\n",
       "  </thead>\n",
       "  <tbody>\n",
       "    <tr>\n",
       "      <th>The Dark Knight</th>\n",
       "      <td><img src='http://image.tmdb.org/t/p/w185//qJ2tW6WMUDux911r6m7haRef0WH.jpg' style='height:100px;'></td>\n",
       "      <td>Drama|Action|Crime|Thriller</td>\n",
       "      <td>8.30</td>\n",
       "      <td>12269.00</td>\n",
       "      <td>2008-07-16</td>\n",
       "    </tr>\n",
       "    <tr>\n",
       "      <th>Psycho</th>\n",
       "      <td><img src='http://image.tmdb.org/t/p/w185//81d8oyEFgj7FlxJqSDXWr8JH8kV.jpg' style='height:100px;'></td>\n",
       "      <td>Drama|Horror|Thriller</td>\n",
       "      <td>8.30</td>\n",
       "      <td>2405.00</td>\n",
       "      <td>1960-06-16</td>\n",
       "    </tr>\n",
       "    <tr>\n",
       "      <th>Pulp Fiction</th>\n",
       "      <td><img src='http://image.tmdb.org/t/p/w185//d5iIlFn5s0ImszYzBPb8JPIfbXD.jpg' style='height:100px;'></td>\n",
       "      <td>Thriller|Crime</td>\n",
       "      <td>8.30</td>\n",
       "      <td>8670.00</td>\n",
       "      <td>1994-09-10</td>\n",
       "    </tr>\n",
       "    <tr>\n",
       "      <th>Rear Window</th>\n",
       "      <td><img src='http://image.tmdb.org/t/p/w185//3yCzeNViqI2oBRbfQfwmj733jPZ.jpg' style='height:100px;'></td>\n",
       "      <td>Drama|Mystery|Thriller</td>\n",
       "      <td>8.20</td>\n",
       "      <td>1531.00</td>\n",
       "      <td>1954-08-01</td>\n",
       "    </tr>\n",
       "    <tr>\n",
       "      <th>The Empire Strikes Back</th>\n",
       "      <td><img src='http://image.tmdb.org/t/p/w185//7BuH8itoSrLExs2YZSsM01Qk2no.jpg' style='height:100px;'></td>\n",
       "      <td>Adventure|Action|Science Fiction</td>\n",
       "      <td>8.20</td>\n",
       "      <td>5998.00</td>\n",
       "      <td>1980-05-17</td>\n",
       "    </tr>\n",
       "    <tr>\n",
       "      <th>Room</th>\n",
       "      <td><img src='http://image.tmdb.org/t/p/w185//pCURNjeomWbMSdiP64gj8NVVHTQ.jpg' style='height:100px;'></td>\n",
       "      <td>Drama|Thriller</td>\n",
       "      <td>8.10</td>\n",
       "      <td>2838.00</td>\n",
       "      <td>2015-10-16</td>\n",
       "    </tr>\n",
       "  </tbody>\n",
       "</table>"
      ],
      "text/plain": [
       "<IPython.core.display.HTML object>"
      ]
     },
     "execution_count": 111,
     "metadata": {},
     "output_type": "execute_result"
    }
   ],
   "source": [
    "filter_genre = df.genres.str.contains('Action') | df.genres.str.contains('Thriller')\n",
    "filter_lang = df.original_language == 'en'\n",
    "filter_rating = df.vote_average >= 7.5\n",
    "\n",
    "vars_set = df.loc[filter_genre & filter_lang & filter_rating, \n",
    "                  ['title','poster_path', 'genres', 'vote_average', 'vote_count',\n",
    "                   'release_date']].sort_values(by='vote_average', ascending=False).set_index('title')\n",
    "\n",
    "HTML(vars_set.head(6).to_html(escape=False))"
   ]
  },
  {
   "cell_type": "markdown",
   "metadata": {},
   "source": [
    "## Are Franchises more successful?"
   ]
  },
  {
   "cell_type": "markdown",
   "metadata": {},
   "source": [
    "4. __Analyze__ the Dataset and __find out whether Franchises (Movies that belong to a collection) are more successful than stand-alone movies__ in terms of:"
   ]
  },
  {
   "cell_type": "markdown",
   "metadata": {},
   "source": [
    "- mean revenue\n",
    "- median Return on Investment\n",
    "- mean budget raised\n",
    "- mean popularity\n",
    "- mean rating"
   ]
  },
  {
   "cell_type": "markdown",
   "metadata": {},
   "source": [
    "hint: use groupby()"
   ]
  },
  {
   "cell_type": "code",
   "execution_count": 113,
   "metadata": {},
   "outputs": [],
   "source": [
    "#create Franchise section in df:\n",
    "df['franchise'] = df.belongs_to_collection.notna()"
   ]
  },
  {
   "cell_type": "markdown",
   "metadata": {},
   "source": [
    "__Franchise vs. Stand-alone: Average Revenue__"
   ]
  },
  {
   "cell_type": "code",
   "execution_count": 117,
   "metadata": {},
   "outputs": [
    {
     "data": {
      "text/plain": [
       "franchise\n",
       "False    59.55\n",
       "True    195.70\n",
       "Name: revenue_musd, dtype: float64"
      ]
     },
     "execution_count": 117,
     "metadata": {},
     "output_type": "execute_result"
    }
   ],
   "source": [
    "df.groupby('franchise').revenue_musd.mean()"
   ]
  },
  {
   "cell_type": "markdown",
   "metadata": {},
   "source": [
    "__Franchise vs. Stand-alone: Return on Investment / Profitability (median)__"
   ]
  },
  {
   "cell_type": "code",
   "execution_count": 118,
   "metadata": {},
   "outputs": [
    {
     "data": {
      "text/plain": [
       "franchise\n",
       "False   1.63\n",
       "True    3.71\n",
       "Name: ROI, dtype: float64"
      ]
     },
     "execution_count": 118,
     "metadata": {},
     "output_type": "execute_result"
    }
   ],
   "source": [
    "df.groupby('franchise').ROI.median()"
   ]
  },
  {
   "cell_type": "markdown",
   "metadata": {},
   "source": [
    "__Franchise vs. Stand-alone: Average Budget__"
   ]
  },
  {
   "cell_type": "code",
   "execution_count": 119,
   "metadata": {},
   "outputs": [
    {
     "data": {
      "text/plain": [
       "franchise\n",
       "False   26.54\n",
       "True    46.82\n",
       "Name: budget_musd, dtype: float64"
      ]
     },
     "execution_count": 119,
     "metadata": {},
     "output_type": "execute_result"
    }
   ],
   "source": [
    "df.groupby('franchise').budget_musd.mean()"
   ]
  },
  {
   "cell_type": "markdown",
   "metadata": {},
   "source": [
    "__Franchise vs. Stand-alone: Average Popularity__"
   ]
  },
  {
   "cell_type": "code",
   "execution_count": 120,
   "metadata": {},
   "outputs": [
    {
     "data": {
      "text/plain": [
       "franchise\n",
       "False    8.63\n",
       "True    13.76\n",
       "Name: popularity, dtype: float64"
      ]
     },
     "execution_count": 120,
     "metadata": {},
     "output_type": "execute_result"
    }
   ],
   "source": [
    "df.groupby('franchise').popularity.mean()"
   ]
  },
  {
   "cell_type": "markdown",
   "metadata": {},
   "source": [
    "__Franchise vs. Stand-alone: Average Rating__"
   ]
  },
  {
   "cell_type": "code",
   "execution_count": 122,
   "metadata": {},
   "outputs": [
    {
     "data": {
      "text/plain": [
       "franchise\n",
       "False   6.31\n",
       "True    6.20\n",
       "Name: vote_average, dtype: float64"
      ]
     },
     "execution_count": 122,
     "metadata": {},
     "output_type": "execute_result"
    }
   ],
   "source": [
    "df.groupby('franchise').vote_average.mean()"
   ]
  },
  {
   "cell_type": "code",
   "execution_count": 123,
   "metadata": {},
   "outputs": [
    {
     "data": {
      "text/html": [
       "<div>\n",
       "<style scoped>\n",
       "    .dataframe tbody tr th:only-of-type {\n",
       "        vertical-align: middle;\n",
       "    }\n",
       "\n",
       "    .dataframe tbody tr th {\n",
       "        vertical-align: top;\n",
       "    }\n",
       "\n",
       "    .dataframe thead th {\n",
       "        text-align: right;\n",
       "    }\n",
       "</style>\n",
       "<table border=\"1\" class=\"dataframe\">\n",
       "  <thead>\n",
       "    <tr style=\"text-align: right;\">\n",
       "      <th></th>\n",
       "      <th>budget_musd</th>\n",
       "      <th>revenue_musd</th>\n",
       "      <th>vote_average</th>\n",
       "      <th>popularity</th>\n",
       "      <th>ROI</th>\n",
       "      <th>vote_count</th>\n",
       "    </tr>\n",
       "    <tr>\n",
       "      <th>franchise</th>\n",
       "      <th></th>\n",
       "      <th></th>\n",
       "      <th></th>\n",
       "      <th></th>\n",
       "      <th></th>\n",
       "      <th></th>\n",
       "    </tr>\n",
       "  </thead>\n",
       "  <tbody>\n",
       "    <tr>\n",
       "      <th>False</th>\n",
       "      <td>26.54</td>\n",
       "      <td>59.55</td>\n",
       "      <td>6.31</td>\n",
       "      <td>8.63</td>\n",
       "      <td>1.63</td>\n",
       "      <td>550.34</td>\n",
       "    </tr>\n",
       "    <tr>\n",
       "      <th>True</th>\n",
       "      <td>46.82</td>\n",
       "      <td>195.70</td>\n",
       "      <td>6.20</td>\n",
       "      <td>13.76</td>\n",
       "      <td>3.71</td>\n",
       "      <td>1358.63</td>\n",
       "    </tr>\n",
       "  </tbody>\n",
       "</table>\n",
       "</div>"
      ],
      "text/plain": [
       "           budget_musd  revenue_musd  vote_average  popularity  ROI  \\\n",
       "franchise                                                             \n",
       "False            26.54         59.55          6.31        8.63 1.63   \n",
       "True             46.82        195.70          6.20       13.76 3.71   \n",
       "\n",
       "           vote_count  \n",
       "franchise              \n",
       "False          550.34  \n",
       "True          1358.63  "
      ]
     },
     "execution_count": 123,
     "metadata": {},
     "output_type": "execute_result"
    }
   ],
   "source": [
    "#simplfified franchise chart:\n",
    "df.groupby('franchise').agg({'budget_musd' : 'mean', 'revenue_musd' : 'mean', 'vote_average' : 'mean',\n",
    "                             'popularity' : 'mean', 'ROI' : 'median', 'vote_count' : 'mean'})"
   ]
  },
  {
   "cell_type": "markdown",
   "metadata": {},
   "source": [
    "## Most Successful Franchises"
   ]
  },
  {
   "cell_type": "markdown",
   "metadata": {},
   "source": [
    "5. __Find__ the __most successful Franchises__ in terms of"
   ]
  },
  {
   "cell_type": "markdown",
   "metadata": {},
   "source": [
    "- __total number of movies__\n",
    "- __total & mean budget__\n",
    "- __total & mean revenue__\n",
    "- __mean rating__"
   ]
  },
  {
   "cell_type": "code",
   "execution_count": 126,
   "metadata": {},
   "outputs": [
    {
     "name": "stdout",
     "output_type": "stream",
     "text": [
      "                                        title budget_musd       revenue_musd  \\\n",
      "                                        count         sum  mean          sum   \n",
      "belongs_to_collection                                                          \n",
      "... Has Fallen Collection                   2      130.00 65.00       366.78   \n",
      "101 Dalmatians (Animated) Collection        1        4.00  4.00       215.88   \n",
      "101 Dalmatians (Live-Action) Collection     2      139.00 69.50       504.30   \n",
      "12 Rounds Collection                        1       20.00 20.00        17.28   \n",
      "2 Days In... Collection                     1        8.00  8.00         1.65   \n",
      "\n",
      "                                               vote_average popularity    ROI  \\\n",
      "                                          mean         mean       mean median   \n",
      "belongs_to_collection                                                           \n",
      "... Has Fallen Collection               183.39         6.00      13.01   2.86   \n",
      "101 Dalmatians (Animated) Collection    215.88         6.80      15.73  53.97   \n",
      "101 Dalmatians (Live-Action) Collection 252.15         5.35       9.57   4.05   \n",
      "12 Rounds Collection                     17.28         5.70      13.59   0.86   \n",
      "2 Days In... Collection                   1.65         5.40       4.68   0.21   \n",
      "\n",
      "                                        vote_count  \n",
      "                                              mean  \n",
      "belongs_to_collection                               \n",
      "... Has Fallen Collection                  2333.00  \n",
      "101 Dalmatians (Animated) Collection       1643.00  \n",
      "101 Dalmatians (Live-Action) Collection     524.50  \n",
      "12 Rounds Collection                        223.00  \n",
      "2 Days In... Collection                      94.00  \n"
     ]
    }
   ],
   "source": [
    "franchises = df.groupby('belongs_to_collection').agg({'title':'count', 'budget_musd':['sum','mean'],\n",
    "                                                      'revenue_musd':['sum','mean'], 'vote_average':'mean',\n",
    "                                                      'popularity':'mean', 'ROI':'median',\n",
    "                                                      'vote_count':'mean'})\n",
    "print(franchises.head(5))"
   ]
  },
  {
   "cell_type": "code",
   "execution_count": 128,
   "metadata": {},
   "outputs": [
    {
     "data": {
      "text/html": [
       "<div>\n",
       "<style scoped>\n",
       "    .dataframe tbody tr th:only-of-type {\n",
       "        vertical-align: middle;\n",
       "    }\n",
       "\n",
       "    .dataframe tbody tr th {\n",
       "        vertical-align: top;\n",
       "    }\n",
       "\n",
       "    .dataframe thead tr th {\n",
       "        text-align: left;\n",
       "    }\n",
       "\n",
       "    .dataframe thead tr:last-of-type th {\n",
       "        text-align: right;\n",
       "    }\n",
       "</style>\n",
       "<table border=\"1\" class=\"dataframe\">\n",
       "  <thead>\n",
       "    <tr>\n",
       "      <th></th>\n",
       "      <th>title</th>\n",
       "      <th colspan=\"2\" halign=\"left\">budget_musd</th>\n",
       "      <th colspan=\"2\" halign=\"left\">revenue_musd</th>\n",
       "      <th>vote_average</th>\n",
       "      <th>popularity</th>\n",
       "      <th>ROI</th>\n",
       "      <th>vote_count</th>\n",
       "    </tr>\n",
       "    <tr>\n",
       "      <th></th>\n",
       "      <th>count</th>\n",
       "      <th>sum</th>\n",
       "      <th>mean</th>\n",
       "      <th>sum</th>\n",
       "      <th>mean</th>\n",
       "      <th>mean</th>\n",
       "      <th>mean</th>\n",
       "      <th>median</th>\n",
       "      <th>mean</th>\n",
       "    </tr>\n",
       "    <tr>\n",
       "      <th>belongs_to_collection</th>\n",
       "      <th></th>\n",
       "      <th></th>\n",
       "      <th></th>\n",
       "      <th></th>\n",
       "      <th></th>\n",
       "      <th></th>\n",
       "      <th></th>\n",
       "      <th></th>\n",
       "      <th></th>\n",
       "    </tr>\n",
       "  </thead>\n",
       "  <tbody>\n",
       "    <tr>\n",
       "      <th>James Bond Collection</th>\n",
       "      <td>26</td>\n",
       "      <td>1539.65</td>\n",
       "      <td>59.22</td>\n",
       "      <td>7106.97</td>\n",
       "      <td>273.35</td>\n",
       "      <td>6.34</td>\n",
       "      <td>13.45</td>\n",
       "      <td>6.13</td>\n",
       "      <td>1284.31</td>\n",
       "    </tr>\n",
       "    <tr>\n",
       "      <th>Friday the 13th Collection</th>\n",
       "      <td>12</td>\n",
       "      <td>84.40</td>\n",
       "      <td>7.03</td>\n",
       "      <td>464.90</td>\n",
       "      <td>38.74</td>\n",
       "      <td>5.42</td>\n",
       "      <td>9.76</td>\n",
       "      <td>6.67</td>\n",
       "      <td>326.58</td>\n",
       "    </tr>\n",
       "    <tr>\n",
       "      <th>A Nightmare on Elm Street Collection</th>\n",
       "      <td>8</td>\n",
       "      <td>84.80</td>\n",
       "      <td>10.60</td>\n",
       "      <td>363.59</td>\n",
       "      <td>45.45</td>\n",
       "      <td>5.96</td>\n",
       "      <td>9.98</td>\n",
       "      <td>6.13</td>\n",
       "      <td>478.50</td>\n",
       "    </tr>\n",
       "    <tr>\n",
       "      <th>Halloween Collection</th>\n",
       "      <td>8</td>\n",
       "      <td>50.30</td>\n",
       "      <td>6.29</td>\n",
       "      <td>247.17</td>\n",
       "      <td>30.90</td>\n",
       "      <td>5.65</td>\n",
       "      <td>8.99</td>\n",
       "      <td>3.40</td>\n",
       "      <td>347.00</td>\n",
       "    </tr>\n",
       "    <tr>\n",
       "      <th>Harry Potter Collection</th>\n",
       "      <td>8</td>\n",
       "      <td>1280.00</td>\n",
       "      <td>160.00</td>\n",
       "      <td>7707.37</td>\n",
       "      <td>963.42</td>\n",
       "      <td>7.54</td>\n",
       "      <td>26.25</td>\n",
       "      <td>6.17</td>\n",
       "      <td>5983.25</td>\n",
       "    </tr>\n",
       "  </tbody>\n",
       "</table>\n",
       "</div>"
      ],
      "text/plain": [
       "                                     title budget_musd        revenue_musd  \\\n",
       "                                     count         sum   mean          sum   \n",
       "belongs_to_collection                                                        \n",
       "James Bond Collection                   26     1539.65  59.22      7106.97   \n",
       "Friday the 13th Collection              12       84.40   7.03       464.90   \n",
       "A Nightmare on Elm Street Collection     8       84.80  10.60       363.59   \n",
       "Halloween Collection                     8       50.30   6.29       247.17   \n",
       "Harry Potter Collection                  8     1280.00 160.00      7707.37   \n",
       "\n",
       "                                            vote_average popularity    ROI  \\\n",
       "                                       mean         mean       mean median   \n",
       "belongs_to_collection                                                        \n",
       "James Bond Collection                273.35         6.34      13.45   6.13   \n",
       "Friday the 13th Collection            38.74         5.42       9.76   6.67   \n",
       "A Nightmare on Elm Street Collection  45.45         5.96       9.98   6.13   \n",
       "Halloween Collection                  30.90         5.65       8.99   3.40   \n",
       "Harry Potter Collection              963.42         7.54      26.25   6.17   \n",
       "\n",
       "                                     vote_count  \n",
       "                                           mean  \n",
       "belongs_to_collection                            \n",
       "James Bond Collection                   1284.31  \n",
       "Friday the 13th Collection               326.58  \n",
       "A Nightmare on Elm Street Collection     478.50  \n",
       "Halloween Collection                     347.00  \n",
       "Harry Potter Collection                 5983.25  "
      ]
     },
     "execution_count": 128,
     "metadata": {},
     "output_type": "execute_result"
    }
   ],
   "source": [
    "#Top 5 largest franchises by num of movies produced:\n",
    "franchises.nlargest(5, ('title','count'))"
   ]
  },
  {
   "cell_type": "code",
   "execution_count": 142,
   "metadata": {},
   "outputs": [
    {
     "data": {
      "text/html": [
       "<div>\n",
       "<style scoped>\n",
       "    .dataframe tbody tr th:only-of-type {\n",
       "        vertical-align: middle;\n",
       "    }\n",
       "\n",
       "    .dataframe tbody tr th {\n",
       "        vertical-align: top;\n",
       "    }\n",
       "\n",
       "    .dataframe thead tr th {\n",
       "        text-align: left;\n",
       "    }\n",
       "\n",
       "    .dataframe thead tr:last-of-type th {\n",
       "        text-align: right;\n",
       "    }\n",
       "</style>\n",
       "<table border=\"1\" class=\"dataframe\">\n",
       "  <thead>\n",
       "    <tr>\n",
       "      <th></th>\n",
       "      <th>title</th>\n",
       "      <th colspan=\"2\" halign=\"left\">budget_musd</th>\n",
       "      <th colspan=\"2\" halign=\"left\">revenue_musd</th>\n",
       "      <th>vote_average</th>\n",
       "      <th>popularity</th>\n",
       "      <th>ROI</th>\n",
       "      <th>vote_count</th>\n",
       "    </tr>\n",
       "    <tr>\n",
       "      <th></th>\n",
       "      <th>count</th>\n",
       "      <th>sum</th>\n",
       "      <th>mean</th>\n",
       "      <th>sum</th>\n",
       "      <th>mean</th>\n",
       "      <th>mean</th>\n",
       "      <th>mean</th>\n",
       "      <th>median</th>\n",
       "      <th>mean</th>\n",
       "    </tr>\n",
       "    <tr>\n",
       "      <th>belongs_to_collection</th>\n",
       "      <th></th>\n",
       "      <th></th>\n",
       "      <th></th>\n",
       "      <th></th>\n",
       "      <th></th>\n",
       "      <th></th>\n",
       "      <th></th>\n",
       "      <th></th>\n",
       "      <th></th>\n",
       "    </tr>\n",
       "  </thead>\n",
       "  <tbody>\n",
       "    <tr>\n",
       "      <th>Avatar Collection</th>\n",
       "      <td>1</td>\n",
       "      <td>237.00</td>\n",
       "      <td>237.00</td>\n",
       "      <td>2787.97</td>\n",
       "      <td>2787.97</td>\n",
       "      <td>7.20</td>\n",
       "      <td>185.07</td>\n",
       "      <td>11.76</td>\n",
       "      <td>12114.00</td>\n",
       "    </tr>\n",
       "    <tr>\n",
       "      <th>The Avengers Collection</th>\n",
       "      <td>2</td>\n",
       "      <td>500.00</td>\n",
       "      <td>250.00</td>\n",
       "      <td>2924.96</td>\n",
       "      <td>1462.48</td>\n",
       "      <td>7.35</td>\n",
       "      <td>63.63</td>\n",
       "      <td>5.96</td>\n",
       "      <td>9454.00</td>\n",
       "    </tr>\n",
       "    <tr>\n",
       "      <th>Frozen Collection</th>\n",
       "      <td>1</td>\n",
       "      <td>150.00</td>\n",
       "      <td>150.00</td>\n",
       "      <td>1274.22</td>\n",
       "      <td>1274.22</td>\n",
       "      <td>7.30</td>\n",
       "      <td>24.25</td>\n",
       "      <td>8.49</td>\n",
       "      <td>5440.00</td>\n",
       "    </tr>\n",
       "    <tr>\n",
       "      <th>Finding Nemo Collection</th>\n",
       "      <td>2</td>\n",
       "      <td>294.00</td>\n",
       "      <td>147.00</td>\n",
       "      <td>1968.91</td>\n",
       "      <td>984.45</td>\n",
       "      <td>7.20</td>\n",
       "      <td>19.99</td>\n",
       "      <td>7.57</td>\n",
       "      <td>5312.50</td>\n",
       "    </tr>\n",
       "    <tr>\n",
       "      <th>The Hobbit Collection</th>\n",
       "      <td>3</td>\n",
       "      <td>750.00</td>\n",
       "      <td>250.00</td>\n",
       "      <td>2935.52</td>\n",
       "      <td>978.51</td>\n",
       "      <td>7.23</td>\n",
       "      <td>25.21</td>\n",
       "      <td>3.83</td>\n",
       "      <td>5981.33</td>\n",
       "    </tr>\n",
       "  </tbody>\n",
       "</table>\n",
       "</div>"
      ],
      "text/plain": [
       "                        title budget_musd        revenue_musd          \\\n",
       "                        count         sum   mean          sum    mean   \n",
       "belongs_to_collection                                                   \n",
       "Avatar Collection           1      237.00 237.00      2787.97 2787.97   \n",
       "The Avengers Collection     2      500.00 250.00      2924.96 1462.48   \n",
       "Frozen Collection           1      150.00 150.00      1274.22 1274.22   \n",
       "Finding Nemo Collection     2      294.00 147.00      1968.91  984.45   \n",
       "The Hobbit Collection       3      750.00 250.00      2935.52  978.51   \n",
       "\n",
       "                        vote_average popularity    ROI vote_count  \n",
       "                                mean       mean median       mean  \n",
       "belongs_to_collection                                              \n",
       "Avatar Collection               7.20     185.07  11.76   12114.00  \n",
       "The Avengers Collection         7.35      63.63   5.96    9454.00  \n",
       "Frozen Collection               7.30      24.25   8.49    5440.00  \n",
       "Finding Nemo Collection         7.20      19.99   7.57    5312.50  \n",
       "The Hobbit Collection           7.23      25.21   3.83    5981.33  "
      ]
     },
     "execution_count": 142,
     "metadata": {},
     "output_type": "execute_result"
    }
   ],
   "source": [
    "#Top 5 largest franchises by total revenue:\n",
    "franchises.nlargest(5, ('revenue_musd', 'sum'))"
   ]
  },
  {
   "cell_type": "code",
   "execution_count": 154,
   "metadata": {},
   "outputs": [
    {
     "data": {
      "text/html": [
       "<div>\n",
       "<style scoped>\n",
       "    .dataframe tbody tr th:only-of-type {\n",
       "        vertical-align: middle;\n",
       "    }\n",
       "\n",
       "    .dataframe tbody tr th {\n",
       "        vertical-align: top;\n",
       "    }\n",
       "\n",
       "    .dataframe thead tr th {\n",
       "        text-align: left;\n",
       "    }\n",
       "\n",
       "    .dataframe thead tr:last-of-type th {\n",
       "        text-align: right;\n",
       "    }\n",
       "</style>\n",
       "<table border=\"1\" class=\"dataframe\">\n",
       "  <thead>\n",
       "    <tr>\n",
       "      <th></th>\n",
       "      <th>title</th>\n",
       "      <th colspan=\"2\" halign=\"left\">budget_musd</th>\n",
       "      <th colspan=\"2\" halign=\"left\">revenue_musd</th>\n",
       "      <th>vote_average</th>\n",
       "      <th>popularity</th>\n",
       "      <th>ROI</th>\n",
       "      <th>vote_count</th>\n",
       "    </tr>\n",
       "    <tr>\n",
       "      <th></th>\n",
       "      <th>count</th>\n",
       "      <th>sum</th>\n",
       "      <th>mean</th>\n",
       "      <th>sum</th>\n",
       "      <th>mean</th>\n",
       "      <th>mean</th>\n",
       "      <th>mean</th>\n",
       "      <th>median</th>\n",
       "      <th>mean</th>\n",
       "    </tr>\n",
       "    <tr>\n",
       "      <th>belongs_to_collection</th>\n",
       "      <th></th>\n",
       "      <th></th>\n",
       "      <th></th>\n",
       "      <th></th>\n",
       "      <th></th>\n",
       "      <th></th>\n",
       "      <th></th>\n",
       "      <th></th>\n",
       "      <th></th>\n",
       "    </tr>\n",
       "  </thead>\n",
       "  <tbody>\n",
       "    <tr>\n",
       "      <th>Avatar Collection</th>\n",
       "      <td>1</td>\n",
       "      <td>237.00</td>\n",
       "      <td>237.00</td>\n",
       "      <td>2787.97</td>\n",
       "      <td>2787.97</td>\n",
       "      <td>7.20</td>\n",
       "      <td>185.07</td>\n",
       "      <td>11.76</td>\n",
       "      <td>12114.00</td>\n",
       "    </tr>\n",
       "    <tr>\n",
       "      <th>The Avengers Collection</th>\n",
       "      <td>2</td>\n",
       "      <td>500.00</td>\n",
       "      <td>250.00</td>\n",
       "      <td>2924.96</td>\n",
       "      <td>1462.48</td>\n",
       "      <td>7.35</td>\n",
       "      <td>63.63</td>\n",
       "      <td>5.96</td>\n",
       "      <td>9454.00</td>\n",
       "    </tr>\n",
       "    <tr>\n",
       "      <th>Frozen Collection</th>\n",
       "      <td>1</td>\n",
       "      <td>150.00</td>\n",
       "      <td>150.00</td>\n",
       "      <td>1274.22</td>\n",
       "      <td>1274.22</td>\n",
       "      <td>7.30</td>\n",
       "      <td>24.25</td>\n",
       "      <td>8.49</td>\n",
       "      <td>5440.00</td>\n",
       "    </tr>\n",
       "    <tr>\n",
       "      <th>Finding Nemo Collection</th>\n",
       "      <td>2</td>\n",
       "      <td>294.00</td>\n",
       "      <td>147.00</td>\n",
       "      <td>1968.91</td>\n",
       "      <td>984.45</td>\n",
       "      <td>7.20</td>\n",
       "      <td>19.99</td>\n",
       "      <td>7.57</td>\n",
       "      <td>5312.50</td>\n",
       "    </tr>\n",
       "    <tr>\n",
       "      <th>The Hobbit Collection</th>\n",
       "      <td>3</td>\n",
       "      <td>750.00</td>\n",
       "      <td>250.00</td>\n",
       "      <td>2935.52</td>\n",
       "      <td>978.51</td>\n",
       "      <td>7.23</td>\n",
       "      <td>25.21</td>\n",
       "      <td>3.83</td>\n",
       "      <td>5981.33</td>\n",
       "    </tr>\n",
       "  </tbody>\n",
       "</table>\n",
       "</div>"
      ],
      "text/plain": [
       "                        title budget_musd        revenue_musd          \\\n",
       "                        count         sum   mean          sum    mean   \n",
       "belongs_to_collection                                                   \n",
       "Avatar Collection           1      237.00 237.00      2787.97 2787.97   \n",
       "The Avengers Collection     2      500.00 250.00      2924.96 1462.48   \n",
       "Frozen Collection           1      150.00 150.00      1274.22 1274.22   \n",
       "Finding Nemo Collection     2      294.00 147.00      1968.91  984.45   \n",
       "The Hobbit Collection       3      750.00 250.00      2935.52  978.51   \n",
       "\n",
       "                        vote_average popularity    ROI vote_count  \n",
       "                                mean       mean median       mean  \n",
       "belongs_to_collection                                              \n",
       "Avatar Collection               7.20     185.07  11.76   12114.00  \n",
       "The Avengers Collection         7.35      63.63   5.96    9454.00  \n",
       "Frozen Collection               7.30      24.25   8.49    5440.00  \n",
       "Finding Nemo Collection         7.20      19.99   7.57    5312.50  \n",
       "The Hobbit Collection           7.23      25.21   3.83    5981.33  "
      ]
     },
     "execution_count": 154,
     "metadata": {},
     "output_type": "execute_result"
    }
   ],
   "source": [
    "#Top 5 franchises with largest mean revenue:\n",
    "franchises.nlargest(5, ('revenue_musd', 'mean'))"
   ]
  },
  {
   "cell_type": "code",
   "execution_count": 141,
   "metadata": {},
   "outputs": [
    {
     "data": {
      "text/html": [
       "<div>\n",
       "<style scoped>\n",
       "    .dataframe tbody tr th:only-of-type {\n",
       "        vertical-align: middle;\n",
       "    }\n",
       "\n",
       "    .dataframe tbody tr th {\n",
       "        vertical-align: top;\n",
       "    }\n",
       "\n",
       "    .dataframe thead tr th {\n",
       "        text-align: left;\n",
       "    }\n",
       "\n",
       "    .dataframe thead tr:last-of-type th {\n",
       "        text-align: right;\n",
       "    }\n",
       "</style>\n",
       "<table border=\"1\" class=\"dataframe\">\n",
       "  <thead>\n",
       "    <tr>\n",
       "      <th></th>\n",
       "      <th>title</th>\n",
       "      <th colspan=\"2\" halign=\"left\">budget_musd</th>\n",
       "      <th colspan=\"2\" halign=\"left\">revenue_musd</th>\n",
       "      <th>vote_average</th>\n",
       "      <th>popularity</th>\n",
       "      <th>ROI</th>\n",
       "      <th>vote_count</th>\n",
       "    </tr>\n",
       "    <tr>\n",
       "      <th></th>\n",
       "      <th>count</th>\n",
       "      <th>sum</th>\n",
       "      <th>mean</th>\n",
       "      <th>sum</th>\n",
       "      <th>mean</th>\n",
       "      <th>mean</th>\n",
       "      <th>mean</th>\n",
       "      <th>median</th>\n",
       "      <th>mean</th>\n",
       "    </tr>\n",
       "    <tr>\n",
       "      <th>belongs_to_collection</th>\n",
       "      <th></th>\n",
       "      <th></th>\n",
       "      <th></th>\n",
       "      <th></th>\n",
       "      <th></th>\n",
       "      <th></th>\n",
       "      <th></th>\n",
       "      <th></th>\n",
       "      <th></th>\n",
       "    </tr>\n",
       "  </thead>\n",
       "  <tbody>\n",
       "    <tr>\n",
       "      <th>The Lord of the Rings Collection</th>\n",
       "      <td>3</td>\n",
       "      <td>266.00</td>\n",
       "      <td>88.67</td>\n",
       "      <td>2916.54</td>\n",
       "      <td>972.18</td>\n",
       "      <td>8.03</td>\n",
       "      <td>30.27</td>\n",
       "      <td>11.73</td>\n",
       "      <td>8253.00</td>\n",
       "    </tr>\n",
       "    <tr>\n",
       "      <th>The Lion King Collection</th>\n",
       "      <td>1</td>\n",
       "      <td>45.00</td>\n",
       "      <td>45.00</td>\n",
       "      <td>788.24</td>\n",
       "      <td>788.24</td>\n",
       "      <td>8.00</td>\n",
       "      <td>21.61</td>\n",
       "      <td>17.52</td>\n",
       "      <td>5520.00</td>\n",
       "    </tr>\n",
       "    <tr>\n",
       "      <th>The Godfather Collection</th>\n",
       "      <td>3</td>\n",
       "      <td>73.00</td>\n",
       "      <td>24.33</td>\n",
       "      <td>429.38</td>\n",
       "      <td>143.13</td>\n",
       "      <td>7.97</td>\n",
       "      <td>31.64</td>\n",
       "      <td>3.66</td>\n",
       "      <td>3677.00</td>\n",
       "    </tr>\n",
       "    <tr>\n",
       "      <th>Blade Runner Collection</th>\n",
       "      <td>1</td>\n",
       "      <td>28.00</td>\n",
       "      <td>28.00</td>\n",
       "      <td>33.14</td>\n",
       "      <td>33.14</td>\n",
       "      <td>7.90</td>\n",
       "      <td>96.27</td>\n",
       "      <td>1.18</td>\n",
       "      <td>3833.00</td>\n",
       "    </tr>\n",
       "    <tr>\n",
       "      <th>The Man With No Name Collection</th>\n",
       "      <td>3</td>\n",
       "      <td>2.00</td>\n",
       "      <td>0.67</td>\n",
       "      <td>35.50</td>\n",
       "      <td>11.83</td>\n",
       "      <td>7.83</td>\n",
       "      <td>14.17</td>\n",
       "      <td>25.00</td>\n",
       "      <td>1422.67</td>\n",
       "    </tr>\n",
       "  </tbody>\n",
       "</table>\n",
       "</div>"
      ],
      "text/plain": [
       "                                 title budget_musd       revenue_musd         \\\n",
       "                                 count         sum  mean          sum   mean   \n",
       "belongs_to_collection                                                          \n",
       "The Lord of the Rings Collection     3      266.00 88.67      2916.54 972.18   \n",
       "The Lion King Collection             1       45.00 45.00       788.24 788.24   \n",
       "The Godfather Collection             3       73.00 24.33       429.38 143.13   \n",
       "Blade Runner Collection              1       28.00 28.00        33.14  33.14   \n",
       "The Man With No Name Collection      3        2.00  0.67        35.50  11.83   \n",
       "\n",
       "                                 vote_average popularity    ROI vote_count  \n",
       "                                         mean       mean median       mean  \n",
       "belongs_to_collection                                                       \n",
       "The Lord of the Rings Collection         8.03      30.27  11.73    8253.00  \n",
       "The Lion King Collection                 8.00      21.61  17.52    5520.00  \n",
       "The Godfather Collection                 7.97      31.64   3.66    3677.00  \n",
       "Blade Runner Collection                  7.90      96.27   1.18    3833.00  \n",
       "The Man With No Name Collection          7.83      14.17  25.00    1422.67  "
      ]
     },
     "execution_count": 141,
     "metadata": {},
     "output_type": "execute_result"
    }
   ],
   "source": [
    "#Of the franchises with a vote count greater than 1000, organize by highest mean ratings:\n",
    "franchises[franchises[('vote_count','mean') ] >= 1000].nlargest(5, ('vote_average','mean'))"
   ]
  },
  {
   "cell_type": "markdown",
   "metadata": {},
   "source": [
    "## Most Successful Directors"
   ]
  },
  {
   "cell_type": "markdown",
   "metadata": {},
   "source": [
    "6. __Find__ the __most successful Directors__ in terms of"
   ]
  },
  {
   "cell_type": "markdown",
   "metadata": {},
   "source": [
    "- __total number of movies__\n",
    "- __total revenue__\n",
    "- __mean rating__"
   ]
  },
  {
   "cell_type": "code",
   "execution_count": 144,
   "metadata": {},
   "outputs": [
    {
     "data": {
      "image/png": "[encoded data removed]",
      "text/plain": [
       "<Figure size 864x576 with 1 Axes>"
      ]
     },
     "metadata": {
      "needs_background": "light"
     },
     "output_type": "display_data"
    }
   ],
   "source": [
    "# Total Number of Movies for Director:\n",
    "plt.figure(figsize = (12, 8))\n",
    "df.director.value_counts().head(20).plot(kind='bar', fontsize = 15)\n",
    "plt.title(\"Most Active Directors\",fontsize = 20)\n",
    "plt.ylabel(\"Number of Movies\", fontsize = 15)\n",
    "plt.show()"
   ]
  },
  {
   "cell_type": "code",
   "execution_count": 158,
   "metadata": {},
   "outputs": [
    {
     "name": "stdout",
     "output_type": "stream",
     "text": [
      "director\n",
      "Steven Spielberg   9256.62\n",
      "Peter Jackson      6528.24\n",
      "Michael Bay        6437.47\n",
      "James Cameron      5900.61\n",
      "David Yates        5334.56\n",
      "Name: revenue_musd, dtype: float64\n"
     ]
    },
    {
     "data": {
      "image/png": "[encoded data removed]",
      "text/plain": [
       "<Figure size 864x576 with 1 Axes>"
      ]
     },
     "metadata": {
      "needs_background": "light"
     },
     "output_type": "display_data"
    }
   ],
   "source": [
    "#Total Revenue for Top Dirrector:\n",
    "print(df.groupby('director').revenue_musd.sum().nlargest(5))\n",
    "plt.figure(figsize = (12, 8))\n",
    "df.groupby(\"director\").revenue_musd.sum().nlargest(20).plot(kind='bar', fontsize = 15)\n",
    "plt.title(\"Total Revenue\",fontsize = 20)\n",
    "plt.ylabel(\"Revenue (in MUSD)\", fontsize = 15)\n",
    "plt.show()"
   ]
  },
  {
   "cell_type": "code",
   "execution_count": 162,
   "metadata": {},
   "outputs": [
    {
     "name": "stdout",
     "output_type": "stream",
     "text": [
      "director\n",
      "Aditya Chopra       9.10\n",
      "Alain Fresnot       9.00\n",
      "Subodh Bhave        9.00\n",
      "Kartal Tibet        8.60\n",
      "Oles Sanin          8.60\n",
      "Jennie Livingston   8.20\n",
      "Name: vote_average, dtype: float64\n"
     ]
    },
    {
     "data": {
      "image/png": "[encoded data removed]",
      "text/plain": [
       "<Figure size 864x576 with 1 Axes>"
      ]
     },
     "metadata": {
      "needs_background": "light"
     },
     "output_type": "display_data"
    }
   ],
   "source": [
    "#Mean Ratings for Top Directors:\n",
    "print(df.groupby('director').vote_average.mean().nlargest(6))\n",
    "plt.figure(figsize = (12, 8))\n",
    "df.groupby(\"director\").vote_average.mean().nlargest(20).plot(kind='bar', fontsize = 15)\n",
    "plt.title(\"Average Ratings\",fontsize = 20)\n",
    "plt.ylabel(\"Scale (1-10)\", fontsize = 15)\n",
    "plt.show()\n"
   ]
  }
 ],
 "metadata": {
  "kernelspec": {
   "display_name": "Python 3.10.2 64-bit",
   "language": "python",
   "name": "python3"
  },
  "language_info": {
   "codemirror_mode": {
    "name": "ipython",
    "version": 3
   },
   "file_extension": ".py",
   "mimetype": "text/x-python",
   "name": "python",
   "nbconvert_exporter": "python",
   "pygments_lexer": "ipython3",
   "version": "3.10.2"
  },
  "vscode": {
   "interpreter": {
    "hash": "369f2c481f4da34e4445cda3fffd2e751bd1c4d706f27375911949ba6bb62e1c"
   }
  }
 },
 "nbformat": 4,
 "nbformat_minor": 2
}
